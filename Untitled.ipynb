{
 "cells": [
  {
   "attachments": {},
   "cell_type": "markdown",
   "id": "770289d3",
   "metadata": {},
   "source": [
    "## Plotting a Graph from MERRA-2 NetCDF Files using Python\n",
    "\n",
    "In this notebook, I utilized Python to plot a graph from the M2TMNXSLV (or tavgM_2d_slv_Nx) dataset, which is a time-averaged 2-dimensional monthly mean data collection within the Modern-Era Retrospective analysis for Research and Applications version 2 (MERRA-2). \n",
    "\n",
    "The M2TMNXSLV dataset includes meteorology diagnostics at commonly used vertical levels, such as air temperature, wind components, sea level pressure, surface pressure, and total precipitable water vapor. The dataset is provided in NetCDF format.\n",
    "\n",
    "To plot a graph from these files, I used the netCDF4 package in Python to read in the data and the matplotlib library to create the graph. I loaded the necessary modules and libraries at the beginning of my code, and then used the following code to read in the NetCDF file:\n"
   ]
  },
  {
   "cell_type": "code",
   "execution_count": 21,
   "id": "be4920ba",
   "metadata": {},
   "outputs": [],
   "source": [
    "import numpy as np\n",
    "from netCDF4 import Dataset\n",
    "import matplotlib.pyplot as plt \n",
    "import cartopy as ccrs "
   ]
  },
  {
   "attachments": {},
   "cell_type": "markdown",
   "id": "053422cf",
   "metadata": {},
   "source": [
    "## show the data from the net CDF file \n",
    "- prints out variable dimensions\n",
    "- mode='r' stands for \"read-only mode\". This means that the netCDF file can only be read and not modified.\n",
    "\n",
    "**it's important to use the appropriate mode when opening a netCDF file to ensure that the file is not unintentionally modified or overwritten.**"
   ]
  },
  {
   "cell_type": "code",
   "execution_count": 20,
   "id": "cc2d4502",
   "metadata": {},
   "outputs": [
    {
     "name": "stdout",
     "output_type": "stream",
     "text": [
      "<class 'netCDF4._netCDF4.Dataset'>\n",
      "root group (NETCDF4 data model, file format HDF5):\n",
      "    History: Original file generated: Fri Jul  3 02:53:08 2015 GMT\n",
      "    Filename: MERRA2_300.tavgM_2d_slv_Nx.201001.nc4\n",
      "    Comment: GMAO filename: d5124_m2_jan00.tavg1_2d_slv_Nx.monthly.201001.nc4\n",
      "    Conventions: CF-1\n",
      "    Institution: NASA Global Modeling and Assimilation Office\n",
      "    References: http://gmao.gsfc.nasa.gov\n",
      "    Format: NetCDF-4/HDF-5\n",
      "    SpatialCoverage: global\n",
      "    VersionID: 5.12.4\n",
      "    TemporalRange: 1980-01-01 -> 2016-12-31\n",
      "    identifier_product_doi_authority: http://dx.doi.org/\n",
      "    ShortName: M2TMNXSLV\n",
      "    RangeBeginningDate: 2010-01-01\n",
      "    RangeEndingDate: 2010-01-31\n",
      "    GranuleID: MERRA2_300.tavgM_2d_slv_Nx.201001.nc4\n",
      "    ProductionDateTime: Original file generated: Fri Jul  3 02:53:08 2015 GMT\n",
      "    LongName: MERRA2 tavg1_2d_slv_Nx: 2d,1-Hourly,Time-Averaged,Single-Level,Assimilation,Single-Level Diagnostics Monthly Mean\n",
      "    Title: MERRA2 tavg1_2d_slv_Nx: 2d,1-Hourly,Time-Averaged,Single-Level,Assimilation,Single-Level Diagnostics Monthly Mean\n",
      "    SouthernmostLatitude: -90.0\n",
      "    NorthernmostLatitude: 90.0\n",
      "    WesternmostLongitude: -180.0\n",
      "    EasternmostLongitude: 179.375\n",
      "    LatitudeResolution: 0.5\n",
      "    LongitudeResolution: 0.625\n",
      "    DataResolution: 0.5 x 0.625\n",
      "    Source: CVS tag: GEOSadas-5_12_4\n",
      "    Contact: http://gmao.gsfc.nasa.gov\n",
      "    identifier_product_doi: 10.5067/AP1B0BA5PD2K\n",
      "    RangeBeginningTime: 00:00:00.000000\n",
      "    RangeEndingTime: 23:59:59.000000\n",
      "    dimensions(sizes): lon(576), lat(361), time(1)\n",
      "    variables(dimensions): float64 lon(lon), float64 lat(lat), int32 time(time), float32 CLDPRS(time, lat, lon), float32 CLDTMP(time, lat, lon), float32 DISPH(time, lat, lon), float32 H1000(time, lat, lon), float32 H250(time, lat, lon), float32 H500(time, lat, lon), float32 H850(time, lat, lon), float32 OMEGA500(time, lat, lon), float32 PBLTOP(time, lat, lon), float32 PS(time, lat, lon), float32 Q250(time, lat, lon), float32 Q500(time, lat, lon), float32 Q850(time, lat, lon), float32 QV10M(time, lat, lon), float32 QV2M(time, lat, lon), float32 SLP(time, lat, lon), float32 T10M(time, lat, lon), float32 T250(time, lat, lon), float32 T2M(time, lat, lon), float32 T2MDEW(time, lat, lon), float32 T2MWET(time, lat, lon), float32 T500(time, lat, lon), float32 T850(time, lat, lon), float32 TO3(time, lat, lon), float32 TOX(time, lat, lon), float32 TQI(time, lat, lon), float32 TQL(time, lat, lon), float32 TQV(time, lat, lon), float32 TROPPB(time, lat, lon), float32 TROPPT(time, lat, lon), float32 TROPPV(time, lat, lon), float32 TROPQ(time, lat, lon), float32 TROPT(time, lat, lon), float32 TS(time, lat, lon), float32 U10M(time, lat, lon), float32 U250(time, lat, lon), float32 U2M(time, lat, lon), float32 U500(time, lat, lon), float32 U50M(time, lat, lon), float32 U850(time, lat, lon), float32 V10M(time, lat, lon), float32 V250(time, lat, lon), float32 V2M(time, lat, lon), float32 V500(time, lat, lon), float32 V50M(time, lat, lon), float32 V850(time, lat, lon), float32 ZLCL(time, lat, lon), float32 Var_CLDPRS(time, lat, lon), float32 Var_CLDTMP(time, lat, lon), float32 Var_DISPH(time, lat, lon), float32 Var_H1000(time, lat, lon), float32 Var_H250(time, lat, lon), float32 Var_H500(time, lat, lon), float32 Var_H850(time, lat, lon), float32 Var_OMEGA500(time, lat, lon), float32 Var_PBLTOP(time, lat, lon), float32 Var_PS(time, lat, lon), float32 Var_Q250(time, lat, lon), float32 Var_Q500(time, lat, lon), float32 Var_Q850(time, lat, lon), float32 Var_QV10M(time, lat, lon), float32 Var_QV2M(time, lat, lon), float32 Var_SLP(time, lat, lon), float32 Var_T10M(time, lat, lon), float32 Var_T250(time, lat, lon), float32 Var_T2M(time, lat, lon), float32 Var_T2MDEW(time, lat, lon), float32 Var_T2MWET(time, lat, lon), float32 Var_T500(time, lat, lon), float32 Var_T850(time, lat, lon), float32 Var_TO3(time, lat, lon), float32 Var_TOX(time, lat, lon), float32 Var_TQI(time, lat, lon), float32 Var_TQL(time, lat, lon), float32 Var_TQV(time, lat, lon), float32 Var_TROPPB(time, lat, lon), float32 Var_TROPPT(time, lat, lon), float32 Var_TROPPV(time, lat, lon), float32 Var_TROPQ(time, lat, lon), float32 Var_TROPT(time, lat, lon), float32 Var_TS(time, lat, lon), float32 Var_U10M(time, lat, lon), float32 Var_U250(time, lat, lon), float32 Var_U2M(time, lat, lon), float32 Var_U500(time, lat, lon), float32 Var_U50M(time, lat, lon), float32 Var_U850(time, lat, lon), float32 Var_V10M(time, lat, lon), float32 Var_V250(time, lat, lon), float32 Var_V2M(time, lat, lon), float32 Var_V500(time, lat, lon), float32 Var_V50M(time, lat, lon), float32 Var_V850(time, lat, lon), float32 Var_ZLCL(time, lat, lon)\n",
      "    groups: \n"
     ]
    }
   ],
   "source": [
    "data = Dataset('MERRA2_300.tavgM_2d_slv_Nx.201001.nc4', mode='r')\n",
    "print(data)"
   ]
  },
  {
   "attachments": {},
   "cell_type": "markdown",
   "id": "7464ef62",
   "metadata": {},
   "source": [
    "# read the T2M 2 meter temperature variable\n",
    "- get the lon varibales from the file\n",
    "- [:] used to retrive the values in the lon variable in a numpy array  "
   ]
  }
 ],
 "metadata": {
  "kernelspec": {
   "display_name": "Python 3 (ipykernel)",
   "language": "python",
   "name": "python3"
  },
  "language_info": {
   "codemirror_mode": {
    "name": "ipython",
    "version": 3
   },
   "file_extension": ".py",
   "mimetype": "text/x-python",
   "name": "python",
   "nbconvert_exporter": "python",
   "pygments_lexer": "ipython3",
   "version": "3.11.2"
  }
 },
 "nbformat": 4,
 "nbformat_minor": 5
}
